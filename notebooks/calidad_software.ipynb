{
 "cells": [
  {
   "cell_type": "markdown",
   "id": "efa1ecab",
   "metadata": {},
   "source": [
    "# HU\n",
    "* EPICA:\n",
    "    descripcion macro del objetivo de la app\n",
    "    todas las tareas tienen como tarea clave la epica\n",
    "    app de citas medicas\n",
    "* FEATURE: *autenticacion-->registro(HU)\n",
    "    los requerimientos funcionales de la app\n",
    "* TASK: (registro HU)crear formulario, validar que los campos sean correctos"
   ]
  },
  {
   "cell_type": "markdown",
   "id": "a84bcb22",
   "metadata": {},
   "source": [
    "# TOMA DE REQUERIMIENTOS\n",
    "\n",
    "* no funcionales: \n",
    "    * cosas que aseguran la calidad del software(escalabilidad,disponibilidad)\n",
    "    * no se negocian, tienen que ir \n",
    "* cada una de las cosas que debe de hacer, funcionalidades que pide el usuario "
   ]
  },
  {
   "cell_type": "markdown",
   "id": "5657a105",
   "metadata": {},
   "source": [
    "# METODO MOSCOW\n",
    "sirve para categorizar y priorizar las tareas de la historia de usuario\n",
    "\n",
    "* debe tener:\n",
    "    * requisitos\n",
    "    * aspectos criticos\n",
    "    * sin sustitucion\n",
    "    * sin alternativa\n",
    "* deberia tener:\n",
    "    * importante\n",
    "    * lo que desea\n",
    "    * se valora si esta\n",
    "    * tiene sustitucion\n",
    "* podria tener:\n",
    "    * no es necesario\n",
    "    * mejoras posibles\n",
    "    * se valora a veces\n",
    "    * copn alternativa\n",
    "* no tendria:\n",
    "    * menos importante\n",
    "    * no es apropiado\n",
    "    * no vale la pen\n",
    "    * no se programa"
   ]
  },
  {
   "cell_type": "markdown",
   "id": "e1666193",
   "metadata": {},
   "source": [
    "TDD\n",
    "PRUEBAS UNITARIAS:\n",
    "pruebas de bajo nivel\n",
    "probar metodos,clases,componentes o modulos \n",
    "* GITFLOW: estrategia de branch\n",
    "    servidores de nube git:bitbucket,github,gitlab\n",
    "\n",
    "* estados archivos git\n",
    "    * untracked: sin seguimiento (cundo no se ha creado)\n",
    "    * modified: modificado\n",
    "    * unmodified: sin modificar\n",
    "\n",
    "    bajar localmete un cambio de alguien mas \n",
    "    git pull\n",
    "\n",
    "* ramas \n",
    "1. main: no se trabaja nunca en la rama master ya que esta conectada directamente al servidor\n",
    "2. develop\n",
    "3. test\n",
    "4. merge: fusion de ramas\n",
    "andres-debug youtube\n",
    "\n",
    "* husky: plataforma que ejecuta pruebas y dice si pasan y no pasan\n",
    "\n",
    "\n",
    "\n"
   ]
  },
  {
   "cell_type": "markdown",
   "id": "380b5d7a",
   "metadata": {},
   "source": [
    "    PRUEBAS DE INTEGRACION\n",
    "\n",
    "    verifica que los modulos ejemplo clases, funcionan bien en conjunto\n",
    "    \n",
    "    PRUEBAS FUNCIONALES\n",
    "    comprueban el resultado de una accion, sin mirar el codigo\n",
    "\n",
    "    PRUEBAS E2E\n",
    "    pruebas automoatizaas ejm: pruebas con selenium\n",
    "    probar el flujo del usuario\n",
    "\n",
    "    ORUEBAS DE ACEPTACION\n",
    "    se hacen para verificar el cumplimiento de los objetivos del sistema (requerimientos funcionales, no funcionales\n",
    "    )\n",
    "\n",
    "    PRUEBAS DE RENDIMIENTO\n",
    "    1. pruebas de rendimiento comun\n",
    "    2. pruebas estres, llevar el sistema al extremo ejm que aguante personas\n",
    "\n",
    "    PRUEBAS DE HUMO\n",
    "    pruebas para realizar pruebas del funcionamiento basico de una aplicacion\n",
    "\n",
    "    "
   ]
  },
  {
   "cell_type": "markdown",
   "id": "a00468e1",
   "metadata": {},
   "source": [
    "1. crear package.json con ( npm init - y)\n",
    "2. usar git bash ya que es mas eficiente que cmd o power shell\n",
    "3. instalar jest (npm install --save-dev jest)#dependencias de desarrollo --save-dev(instala node modules)\n",
    "\n"
   ]
  },
  {
   "cell_type": "code",
   "execution_count": null,
   "id": "60903e98",
   "metadata": {},
   "outputs": [],
   "source": [
    "#json completo se debe modificar el test con jest\n",
    "{\n",
    "  \"name\": \"testing-ana-karina\",\n",
    "  \"version\": \"1.0.0\",\n",
    "  \"description\": \"\",\n",
    "  \"main\": \"index.js\",\n",
    "  \"scripts\": {\n",
    "    \"test\": \"jest\"\n",
    "  },\n",
    "  \"keywords\": [],\n",
    "  \"author\": \"\",\n",
    "  \"license\": \"ISC\",\n",
    "  \"devDependencies\": {\n",
    "    \"jest\": \"^30.1.2\"\n",
    "  }\n",
    "}"
   ]
  },
  {
   "cell_type": "markdown",
   "id": "42891dfd",
   "metadata": {},
   "source": [
    "* crear archivo\n",
    "passworsValidator.test en  la carpeta raiz\n",
    "\n",
    "* crear archivo\n",
    "passwordValidator.js"
   ]
  },
  {
   "cell_type": "markdown",
   "id": "6fa96205",
   "metadata": {},
   "source": []
  },
  {
   "cell_type": "markdown",
   "id": "3f8a00c4",
   "metadata": {},
   "source": []
  }
 ],
 "metadata": {
  "language_info": {
   "name": "python"
  }
 },
 "nbformat": 4,
 "nbformat_minor": 5
}
