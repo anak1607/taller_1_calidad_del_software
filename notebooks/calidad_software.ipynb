{
 "cells": [
  {
   "cell_type": "markdown",
   "id": "efa1ecab",
   "metadata": {},
   "source": [
    "# HU\n",
    "* EPICA:\n",
    "    descripcion macro del objetivo de la app\n",
    "    todas las tareas tienen como tarea clave la epica\n",
    "    app de citas medicas\n",
    "* FEATURE: *autenticacion-->registro(HU)\n",
    "    los requerimientos funcionales de la app\n",
    "* TASK: (registro HU)crear formulario, validar que los campos sean correctos"
   ]
  },
  {
   "cell_type": "markdown",
   "id": "a84bcb22",
   "metadata": {},
   "source": [
    "# TOMA DE REQUERIMIENTOS\n",
    "\n",
    "* no funcionales: \n",
    "    * cosas que aseguran la calidad del software(escalabilidad,disponibilidad)\n",
    "    * no se negocian, tienen que ir \n",
    "* cada una de las cosas que debe de hacer, funcionalidades que pide el usuario "
   ]
  },
  {
   "cell_type": "markdown",
   "id": "5657a105",
   "metadata": {},
   "source": [
    "# METODO MOSCOW\n",
    "sirve para categorizar y priorizar las tareas de la historia de usuario\n",
    "\n",
    "* debe tener:\n",
    "    * requisitos\n",
    "    * aspectos criticos\n",
    "    * sin sustitucion\n",
    "    * sin alternativa\n",
    "* deberia tener:\n",
    "    * importante\n",
    "    * lo que desea\n",
    "    * se valora si esta\n",
    "    * tiene sustitucion\n",
    "* podria tener:\n",
    "    * no es necesario\n",
    "    * mejoras posibles\n",
    "    * se valora a veces\n",
    "    * copn alternativa\n",
    "* no tendria:\n",
    "    * menos importante\n",
    "    * no es apropiado\n",
    "    * no vale la pen\n",
    "    * no se programa"
   ]
  },
  {
   "cell_type": "markdown",
   "id": "e1666193",
   "metadata": {},
   "source": [
    "TDD\n",
    "PRUEBAS UNITARIAS:\n",
    "pruebas de bajo nivel\n",
    "probar metodos,clases,componentes o modulos \n",
    "* GITFLOW: estrategia de branch\n",
    "    servidores de nube git:bitbucket,github,gitlab\n",
    "\n",
    "* estados archivos git\n",
    "    * untracked: sin seguimiento (cundo no se ha creado)\n",
    "    * modified: modificado\n",
    "    * unmodified: sin modificar\n",
    "\n",
    "    bajar localmete un cambio de alguien mas \n",
    "    git pull\n",
    "\n",
    "* ramas \n",
    "1. main: no se trabaja nunca en la rama master ya que esta conectada directamente al servidor\n",
    "2. develop\n",
    "3. test\n",
    "4. merge: fusion de ramas\n",
    "andres-debug youtube\n",
    "\n",
    "* husky: plataforma que ejecuta pruebas y dice si pasan y no pasan\n",
    "\n",
    "\n",
    "\n"
   ]
  },
  {
   "cell_type": "markdown",
   "id": "380b5d7a",
   "metadata": {},
   "source": [
    "    PRUEBAS DE INTEGRACION\n",
    "\n",
    "    verifica que los modulos ejemplo clases, funcionan bien en conjunto\n",
    "    \n",
    "    PRUEBAS FUNCIONALES\n",
    "    comprueban el resultado de una accion, sin mirar el codigo\n",
    "\n",
    "    PRUEBAS E2E\n",
    "    pruebas automoatizaas ejm: pruebas con selenium\n",
    "    probar el flujo del usuario\n",
    "\n",
    "    ORUEBAS DE ACEPTACION\n",
    "    se hacen para verificar el cumplimiento de los objetivos del sistema (requerimientos funcionales, no funcionales\n",
    "    )\n",
    "\n",
    "    PRUEBAS DE RENDIMIENTO\n",
    "    1. pruebas de rendimiento comun\n",
    "    2. pruebas estres, llevar el sistema al extremo ejm que aguante personas\n",
    "\n",
    "    PRUEBAS DE HUMO\n",
    "    pruebas para realizar pruebas del funcionamiento basico de una aplicacion\n",
    "\n",
    "    "
   ]
  },
  {
   "cell_type": "markdown",
   "id": "a00468e1",
   "metadata": {},
   "source": [
    "1. crear package.json con ( npm init - y)\n",
    "2. usar git bash ya que es mas eficiente que cmd o power shell\n",
    "3. instalar jest (npm install --save-dev jest)#dependencias de desarrollo --save-dev(instala node modules)\n",
    "\n"
   ]
  },
  {
   "cell_type": "code",
   "execution_count": null,
   "id": "60903e98",
   "metadata": {},
   "outputs": [],
   "source": [
    "#json completo se debe modificar el test con jest\n",
    "{\n",
    "  \"name\": \"testing-ana-karina\",\n",
    "  \"version\": \"1.0.0\",\n",
    "  \"description\": \"\",\n",
    "  \"main\": \"index.js\",\n",
    "  \"scripts\": {\n",
    "    \"test\": \"jest\"# cambiar esta linea\n",
    "  },\n",
    "  \"keywords\": [],\n",
    "  \"author\": \"\",\n",
    "  \"license\": \"ISC\",\n",
    "  \"devDependencies\": {\n",
    "    \"jest\": \"^30.1.2\"\n",
    "  }\n",
    "}"
   ]
  },
  {
   "cell_type": "markdown",
   "id": "42891dfd",
   "metadata": {},
   "source": [
    "* crear archivo\n",
    "passwordValidator.test en  la carpeta raiz\n",
    "\n",
    "* crear archivo\n",
    "passwordValidator.js(tiene la funcion)"
   ]
  },
  {
   "cell_type": "markdown",
   "id": "6fa96205",
   "metadata": {},
   "source": []
  },
  {
   "cell_type": "markdown",
   "id": "3f8a00c4",
   "metadata": {},
   "source": [
    "passwordvalidation.test\n"
   ]
  },
  {
   "cell_type": "code",
   "execution_count": null,
   "id": "4c7b71ac",
   "metadata": {
    "vscode": {
     "languageId": "javascript"
    }
   },
   "outputs": [],
   "source": [
    "// escribo el resultado que quiero obtener TIENE LAS PRUEBAS\n",
    "// se empiez con este archivo por el tdd prinmero se escriben las pruebas\n",
    "const validatorPassword = require('./passwordValidator')//llama la funcion que esta en el.js\n",
    "test('Contraseña valida pasa la prueba',()=>{// la palabra test es la que usa jest para ejecutar cada prueba\n",
    "   // recibe primer argumwento, nombre, funcion donde se hace el test\n",
    "   expect(validatorPassword('Password')).toBe(true)// espectativa de lo que se espera que haga\n",
    "   // se llama la funcion\n",
    "   // si un user ingresa una contraseña y es true es correcta y pasa la prueba\n",
    "\n",
    "});\n",
    "test('Contraseña demasiado corta falla',()=>{\n",
    "expect(validatorPassword('pass1')).toBe(false)\n",
    "})\n"
   ]
  },
  {
   "cell_type": "markdown",
   "id": "a7a3ea0b",
   "metadata": {},
   "source": [
    "validatorpasword.js"
   ]
  },
  {
   "cell_type": "code",
   "execution_count": null,
   "id": "2d82021d",
   "metadata": {
    "vscode": {
     "languageId": "javascript"
    }
   },
   "outputs": [],
   "source": [
    "function validatorPassword(passwordValidator){\n",
    "    if (passwordValidator.length<8)return false\n",
    "    if(!/[A-Z]/.test(password))return false// contraseña sin minusculas falla\n",
    "    if (!/[0-9]/.test(password))return false\n",
    "    return true \n",
    "}\n",
    "\n",
    "module.exports = validatorPassword"
   ]
  },
  {
   "cell_type": "markdown",
   "id": "01754b77",
   "metadata": {},
   "source": [
    "# PRUEBAS DE INTEGRACION\n",
    "verifican como se integran diferentes modulos o componentes juntos\n",
    "\n",
    "* muchos errores ocurren en la integracion, pero a la hora de ver los modulos indiv son correctos\n",
    "* ayudan a detectar incopatibilidades, fallas en interfaces, fallas de comunicacion\n",
    "*  los modulos deben de funcionar bien juntos\n"
   ]
  },
  {
   "cell_type": "markdown",
   "id": "cca89779",
   "metadata": {},
   "source": [
    "## PRUEBAS INCREMENTALES\n",
    "\n",
    "mocks= respuestas de ejemplo\n",
    "lambda= servicio de respuesta (cobro por uso)\n",
    "\n",
    "evaluan modulos individuales mediante codigos auxiliares y controladores\n",
    "no necesito esperar a que se ejecute un modulo para probar otro\n",
    "se integran modulos con stubs y controladores(drivers) ( usar en automatizaciones)\n",
    "\n",
    "stubs: simulador de un modulo para poder usar otro\n",
    "\n",
    "* ayuda a encontrar errores en modulos\n",
    "* ayuda a identificar errores al principio de la fase de prueba de integracion antes de que se contecten los  modulos\n",
    "* garantiza funcionamiento y conexion entr los codigos\n",
    "* flexibilidad y rentabilidad\n",
    "* es mejor tardarse mucho planeando una prueba que quedarse refactorizando un modulo \n",
    "* hablar con el cliente por cada modulo que se realice\n",
    "# INTEGRACION BIG BANG\n",
    "(recordar que se pueden usar datos ficticios)\n",
    "* simulacion del sistema completo\n",
    "* tiene jerariquia de componentes, deesde el core hasta los mas pequeños, de manera descendente ya que es mejor arreglar lo mas complejo que ayuda a solucionar lo mas pequeño de paso\n",
    "* pruebas a mano\n",
    "* cuando es ascendente es dependiendo de la logica de negocio\n",
    "* \n",
    "\n",
    "## pruebas ascendentes, descendentes, metodo sandiwch,bigbang\n",
    "## CONSULTAR TIPOS DE ARQUITECTURAS(HEXAGONAL)\n",
    "##  Aprender aws (pruebas)"
   ]
  },
  {
   "cell_type": "markdown",
   "id": "2c623339",
   "metadata": {},
   "source": [
    "# COMO FUNCIONA UNA API\n",
    "*aprender js\n",
    "Comunica la bd con las vista de cliente, ejemplo: app\n",
    "mensajero\n",
    "cliente mesero(api) cocina(herramientas)\n",
    "## TIPOS \n",
    "* REST: GET,POST,PUT,PATCH,DELETE,OPTION\n",
    "* graph:QUERY, MUTACIONES(SE COMPORTA COMO UN JSON)\n",
    "## CODIGOS DE RESPUESTA (100-599)\n",
    "* 100-199: CODIGOS DE RESPUESTA DE INFORMACION\n",
    "* 200-299: EXITO\n",
    "* 300-399: ERRORES DE REDIRECCION\n",
    "* 400-499: ERRORES DE CLIENTE\n",
    "* 500-599: ERROR DE SERVIDOR\n",
    "\n",
    "# ASINCRONISMO (JS)\n",
    "PUEDE TRAER 2 RESPUESTAS HASTA QUE NO SE CUMPLE UNA LINEA ESPECICICA QUE YO MARCO(AWAIT)\n",
    "AXIOS(PARA HACER PETICIONES REST)\n",
    "                                                                                                                                                                                                "
   ]
  },
  {
   "cell_type": "markdown",
   "id": "698c0c1d",
   "metadata": {},
   "source": [
    "#COMMIT: SUBE LA TRANSACCION\n",
    "# ROLLBACK:SE DEVUELVE A LA TRANSACCION ANTERIOR SI NO FUNCIONA LA PETICION"
   ]
  },
  {
   "cell_type": "markdown",
   "id": "134b17c3",
   "metadata": {},
   "source": [
    "# PIRAMIDE\n",
    "3.E2E(LENTAS CUESTAN MAS)\n",
    "\n",
    "2.INTEGRACION\n",
    "\n",
    "1.UNITARIASW(ECONOMICAS, RAPIDAS)"
   ]
  }
 ],
 "metadata": {
  "language_info": {
   "name": "python"
  }
 },
 "nbformat": 4,
 "nbformat_minor": 5
}
