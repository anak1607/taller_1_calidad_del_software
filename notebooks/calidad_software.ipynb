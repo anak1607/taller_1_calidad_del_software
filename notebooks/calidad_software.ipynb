{
 "cells": [
  {
   "cell_type": "markdown",
   "id": "efa1ecab",
   "metadata": {},
   "source": [
    "# HU\n",
    "* EPICA:\n",
    "    descripcion macro del objetivo de la app\n",
    "    todas las tareas tienen como tarea clave la epica\n",
    "    app de citas medicas\n",
    "* FEATURE: *autenticacion-->registro(HU)\n",
    "    los requerimientos funcionales de la app\n",
    "* TASK: (registro HU)crear formulario, validar que los campos sean correctos"
   ]
  },
  {
   "cell_type": "markdown",
   "id": "a84bcb22",
   "metadata": {},
   "source": [
    "# TOMA DE REQUERIMIENTOS\n",
    "\n",
    "* no funcionales: \n",
    "    * cosas que aseguran la calidad del software(escalabilidad,disponibilidad)\n",
    "    * no se negocian, tienen que ir \n",
    "* cada una de las cosas que debe de hacer, funcionalidades que pide el usuario "
   ]
  },
  {
   "cell_type": "markdown",
   "id": "5657a105",
   "metadata": {},
   "source": [
    "# METODO MOSCOW\n",
    "sirve para categorizar y priorizar las tareas de la historia de usuario\n",
    "\n",
    "* debe tener:\n",
    "    * requisitos\n",
    "    * aspectos criticos\n",
    "    * sin sustitucion\n",
    "    * sin alternativa\n",
    "* deberia tener:\n",
    "    * importante\n",
    "    * lo que desea\n",
    "    * se valora si esta\n",
    "    * tiene sustitucion\n",
    "* podria tener:\n",
    "    * no es necesario\n",
    "    * mejoras posibles\n",
    "    * se valora a veces\n",
    "    * copn alternativa\n",
    "* no tendria:\n",
    "    * menos importante\n",
    "    * no es apropiado\n",
    "    * no vale la pen\n",
    "    * no se programa"
   ]
  },
  {
   "cell_type": "markdown",
   "id": "e1666193",
   "metadata": {},
   "source": [
    "\n"
   ]
  }
 ],
 "metadata": {
  "language_info": {
   "name": "python"
  }
 },
 "nbformat": 4,
 "nbformat_minor": 5
}
